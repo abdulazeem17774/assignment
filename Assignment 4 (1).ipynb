{
 "cells": [
  {
   "cell_type": "markdown",
   "metadata": {},
   "source": [
    "# Assignment 4"
   ]
  },
  {
   "cell_type": "markdown",
   "metadata": {},
   "source": [
    "Question 1"
   ]
  },
  {
   "cell_type": "code",
   "execution_count": 1,
   "metadata": {},
   "outputs": [
    {
     "name": "stdout",
     "output_type": "stream",
     "text": [
      "{'first_name': 'Abdul', 'last_name': 'Azeem', 'age': 20, 'city': 'Karachi'}\n",
      "{'first_name': 'Abdul', 'last_name': 'Azeem', 'age': 20, 'city': 'Karachi', 'qualification': 'Alevel'}\n",
      "{'first_name': 'Abdul', 'last_name': 'Azeem', 'age': 20, 'city': 'Karachi', 'qualification': 'Masters'}\n",
      "{'first_name': 'Abdul', 'last_name': 'Azeem', 'age': 20, 'city': 'Karachi'}\n"
     ]
    }
   ],
   "source": [
    "info = {'first_name': 'Abdul','last_name':'Azeem','age': 20,'city':'Karachi'}\n",
    "print(info)\n",
    "info['qualification']= 'Alevel'\n",
    "print(info)\n",
    "info['qualification']= 'Masters'\n",
    "print(info)\n",
    "del info['qualification']\n",
    "print(info)\n",
    "\n",
    "\n"
   ]
  },
  {
   "cell_type": "markdown",
   "metadata": {},
   "source": [
    "Question 2"
   ]
  },
  {
   "cell_type": "code",
   "execution_count": 2,
   "metadata": {},
   "outputs": [
    {
     "name": "stdout",
     "output_type": "stream",
     "text": [
      "{'Karachi': {'Country': 'Pakistan', 'Population': 14910000, 'Fact': 'Karachi is one of the biggest cities in the world'}, 'London': {'Country': 'England', 'Population': 8900000, 'Fact': 'London was not always called London.'}, 'Paris': {'Country': 'France', 'Population': 2141000, 'Fact': 'Paris is famous for Eiffel Tower'}}\n"
     ]
    }
   ],
   "source": [
    "cities={'Karachi':{'Country':'Pakistan','Population':14910000,'Fact':'Karachi is one of the biggest cities in the world'},\n",
    "'London':{'Country':'England','Population':8900000,'Fact':'London was not always called London.'},\n",
    "        'Paris':{'Country':'France','Population':2141000,'Fact':'Paris is famous for Eiffel Tower'}}\n",
    "print(cities)"
   ]
  },
  {
   "cell_type": "markdown",
   "metadata": {},
   "source": [
    "Question 3"
   ]
  },
  {
   "cell_type": "code",
   "execution_count": 3,
   "metadata": {},
   "outputs": [
    {
     "name": "stdout",
     "output_type": "stream",
     "text": [
      "Please enter your age: 20\n",
      "Your ticket is $15\n"
     ]
    }
   ],
   "source": [
    "x=int(input('Please enter your age: '))\n",
    "if x<3:\n",
    "    print('Your ticket is free')\n",
    "elif x<12:\n",
    "    print(\"Your ticket is $10\")\n",
    "else:\n",
    "    print('Your ticket is $15')\n"
   ]
  },
  {
   "cell_type": "markdown",
   "metadata": {},
   "source": [
    "Question 4"
   ]
  },
  {
   "cell_type": "code",
   "execution_count": 5,
   "metadata": {},
   "outputs": [],
   "source": [
    "def favouritebook(title):\n",
    "    print('One of my favourite books is',title)"
   ]
  },
  {
   "cell_type": "code",
   "execution_count": 6,
   "metadata": {},
   "outputs": [
    {
     "name": "stdout",
     "output_type": "stream",
     "text": [
      "One of my favourite books is Prisoner of Zenda\n"
     ]
    }
   ],
   "source": [
    "favouritebook('Prisoner of Zenda')"
   ]
  },
  {
   "cell_type": "markdown",
   "metadata": {},
   "source": [
    "Question 5"
   ]
  },
  {
   "cell_type": "code",
   "execution_count": 1,
   "metadata": {},
   "outputs": [
    {
     "name": "stdout",
     "output_type": "stream",
     "text": [
      "guess the number between 1 and 30: 24\n",
      "your number is too big\n",
      "guess the number between 1 and 30: 16\n",
      "your number is too big\n",
      "guess the number between 1 and 30: 6\n",
      "good job\n"
     ]
    }
   ],
   "source": [
    "import random\n",
    "x=random.randrange(30)\n",
    "\n",
    "tries=0\n",
    "while tries<3:\n",
    "    tries+=1\n",
    "    y=int(input('guess the number between 1 and 30: '))\n",
    "    if x>y:\n",
    "        print('your number is too small')\n",
    "    elif x<y:\n",
    "        print('your number is too big')\n",
    "    else:\n",
    "        print('good job')\n",
    "    \n"
   ]
  },
  {
   "cell_type": "code",
   "execution_count": null,
   "metadata": {},
   "outputs": [],
   "source": []
  }
 ],
 "metadata": {
  "kernelspec": {
   "display_name": "Python 3",
   "language": "python",
   "name": "python3"
  },
  "language_info": {
   "codemirror_mode": {
    "name": "ipython",
    "version": 3
   },
   "file_extension": ".py",
   "mimetype": "text/x-python",
   "name": "python",
   "nbconvert_exporter": "python",
   "pygments_lexer": "ipython3",
   "version": "3.7.3"
  }
 },
 "nbformat": 4,
 "nbformat_minor": 2
}
