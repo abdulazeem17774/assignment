{
 "cells": [
  {
   "cell_type": "markdown",
   "metadata": {},
   "source": [
    "# Assignment 2"
   ]
  },
  {
   "cell_type": "markdown",
   "metadata": {},
   "source": [
    "Question 1"
   ]
  },
  {
   "cell_type": "code",
   "execution_count": 3,
   "metadata": {},
   "outputs": [
    {
     "name": "stdout",
     "output_type": "stream",
     "text": [
      "marks of Maths: 78\n",
      "marks of English: 87\n",
      "marks of Science: 98\n",
      "marks of Urdu: 9\n",
      "marks of Social Studies: 90\n",
      "Grade: C\n"
     ]
    }
   ],
   "source": [
    "Maths=int(input(\"marks of Maths: \"))\n",
    "Eng=int(input(\"marks of English: \"))\n",
    "Sci=int(input(\"marks of Science: \"))\n",
    "Urdu=int(input(\"marks of Urdu: \"))\n",
    "SS=int(input(\"marks of Social Studies: \"))\n",
    "a=(Maths+Eng+Sci+Urdu+SS)/5\n",
    "if(a>=90):\n",
    "    print(\"Grade: A\")\n",
    "elif(a>=80 and a<90):\n",
    "    print(\"Grade: B\")\n",
    "elif(a>=70 and a<80):\n",
    "    print(\"Grade: C\")\n",
    "elif(a>=60 and a<70):\n",
    "    print(\"Grade: D\")\n",
    "else:\n",
    "    print(\"Grade: F\")"
   ]
  },
  {
   "cell_type": "markdown",
   "metadata": {},
   "source": [
    "Question 2"
   ]
  },
  {
   "cell_type": "code",
   "execution_count": 4,
   "metadata": {},
   "outputs": [
    {
     "name": "stdout",
     "output_type": "stream",
     "text": [
      "Enter a number: 69\n",
      "This is an odd number.\n"
     ]
    }
   ],
   "source": [
    "n = int(input(\"Enter a number: \"))\n",
    "m = n % 2\n",
    "if m > 0:\n",
    "    print(\"This is an odd number.\")\n",
    "else:\n",
    "    print(\"This is an even number.\")"
   ]
  },
  {
   "cell_type": "markdown",
   "metadata": {},
   "source": [
    "Question 3"
   ]
  },
  {
   "cell_type": "code",
   "execution_count": 5,
   "metadata": {},
   "outputs": [
    {
     "name": "stdout",
     "output_type": "stream",
     "text": [
      "The length of list is:  6\n"
     ]
    }
   ],
   "source": [
    "n =[1, 2, 3,7,8,9] \n",
    "print(\"The length of list is: \", len(n)) \n"
   ]
  },
  {
   "cell_type": "markdown",
   "metadata": {},
   "source": [
    "Question 4"
   ]
  },
  {
   "cell_type": "code",
   "execution_count": 6,
   "metadata": {},
   "outputs": [
    {
     "name": "stdout",
     "output_type": "stream",
     "text": [
      "Sum of all elements in given list:  861\n"
     ]
    }
   ],
   "source": [
    "total = 0\n",
    "i = 0\n",
    "\n",
    "\n",
    "list1 = [12, 3, 56, 767, 23] \n",
    "\n",
    "while(i < len(list1)): \n",
    "    total = total + list1[i] \n",
    "    i += 1\n",
    "\n",
    "\n",
    "print(\"Sum of all elements in given list: \", total) \n"
   ]
  },
  {
   "cell_type": "markdown",
   "metadata": {},
   "source": [
    "Question 5"
   ]
  },
  {
   "cell_type": "code",
   "execution_count": 8,
   "metadata": {},
   "outputs": [
    {
     "name": "stdout",
     "output_type": "stream",
     "text": [
      "176\n"
     ]
    }
   ],
   "source": [
    "nlist = [12, 34, 45, 76, 176, 57] \n",
    "print(max(nlist))"
   ]
  },
  {
   "cell_type": "markdown",
   "metadata": {},
   "source": [
    "Question 6"
   ]
  },
  {
   "cell_type": "code",
   "execution_count": 9,
   "metadata": {},
   "outputs": [
    {
     "name": "stdout",
     "output_type": "stream",
     "text": [
      "1\n",
      "1\n",
      "2\n",
      "3\n",
      "4\n",
      "4\n",
      "3\n",
      "1\n",
      "1\n",
      "2\n",
      "3\n",
      "4\n",
      "4\n",
      "3\n"
     ]
    }
   ],
   "source": [
    "a = [1, 1, 2, 3, 5, 8, 13, 21, 34, 55, 89,4,4,3]\n",
    "\n",
    "for i in a:\n",
    "\n",
    "    if i < 5:\n",
    "\n",
    "        print(i)\n",
    "\n",
    "for i in a:\n",
    "\n",
    "    if i < 5:\n",
    "\n",
    "        print(i)"
   ]
  },
  {
   "cell_type": "code",
   "execution_count": null,
   "metadata": {},
   "outputs": [],
   "source": []
  }
 ],
 "metadata": {
  "kernelspec": {
   "display_name": "Python 3",
   "language": "python",
   "name": "python3"
  },
  "language_info": {
   "codemirror_mode": {
    "name": "ipython",
    "version": 3
   },
   "file_extension": ".py",
   "mimetype": "text/x-python",
   "name": "python",
   "nbconvert_exporter": "python",
   "pygments_lexer": "ipython3",
   "version": "3.7.3"
  }
 },
 "nbformat": 4,
 "nbformat_minor": 2
}
